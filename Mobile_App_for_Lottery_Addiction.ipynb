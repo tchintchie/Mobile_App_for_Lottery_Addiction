{
 "cells": [
  {
   "cell_type": "markdown",
   "metadata": {},
   "source": [
    "# Mobile App for Lottery Addiction"
   ]
  },
  {
   "cell_type": "markdown",
   "metadata": {},
   "source": [
    "# Introduction\n",
    "In this guided project we put everything together to contribute to the development of a mobile app that is meant to help lottery addicts better estimate their chances of winning.\n",
    "\n",
    "Many people start playing the lottery for fun, but for some this activity turns into a habit which eventually escalates into addiction. Like other compulsive gamblers, lottery addicts soon begin spending from their savings and loans, they start to accumulate debts, and eventually engage in desperate behaviors like theft.\n",
    "\n",
    "A medical institute that aims to prevent and treat gambling addictions wants to build a dedicated mobile app to help lottery addicts better estimate their chances of winning. The institute has a team of engineers that will build the app, but they need us to create the logical core of the app and calculate probabilities.\n",
    "\n",
    "For the first version of the app, they want us to focus on the 6/49 lottery and build functions that enable users to answer questions like:\n",
    "\n",
    "- What is the probability of winning the big prize with a single ticket?\n",
    "- What is the probability of winning the big prize if we play 40 different tickets (or any other number)?\n",
    "- What is the probability of having at least five (or four, or three, or two) winning numbers on a single ticket?\n",
    "\n",
    "The institute also wants us to consider historical data coming from the national 6/49 lottery game in Canada. The data set https://www.kaggle.com/datascienceai/lottery-dataset has data for 3,665 drawings, dating from 1982 to 2018 (we'll come back to this).\n",
    "\n",
    "The scenario we're following throughout this project is fictional — the main purpose is to practice applying the concepts we learned in a setting that simulates a real-world scenario."
   ]
  },
  {
   "cell_type": "markdown",
   "metadata": {},
   "source": [
    "# Core Functions\n",
    "Our goal is to write code that can enable users to answer probability questions about playing the lottery. Throughout the project, we'll need to calculate repeatedly probabilities and combinations. As a consequence, we'll start by writing two functions that we'll use often:\n",
    "\n",
    "- A function that calculates factorials; and\n",
    "- A function that calculates combinations.\n",
    "\n",
    "To calculate factorials, this is the formula we learned we need to use:\n",
    "\n",
    "\\begin{equation}\n",
    "n! = n \\times (n - 1) \\times (n - 2) \\times ... \\times 2 \\times 1\n",
    "\\end{equation}\n",
    "\n",
    "In the 6/49 lottery, six numbers are drawn from a set of 49 numbers that range from 1 to 49. The drawing is done without replacement, which means once a number is drawn, it's not put back in the set.\n",
    "\n",
    "To find the number of combinations when we're sampling without replacement and taking only k objects from a group of n objects, we can use the formula:\n",
    "\n",
    "\\begin{equation}\n",
    "_nC_k = {n \\choose k} =  \\frac{n!}{k!(n-k)!}\n",
    "\\end{equation}"
   ]
  },
  {
   "cell_type": "markdown",
   "metadata": {},
   "source": [
    "## Tasks\n",
    "1. Write a function named `factorial()` which takes as input a number `n` and computes the factorial of that number `n`. Remember that we already coded this function in the last mission.\n",
    "2. Write a function named `combinations()` which takes in two inputs (`n` and `k`) and outputs the number of combinations when we're taking only `k` objects from a group of `n` objects. Remember that we already coded this function in the last mission."
   ]
  },
  {
   "cell_type": "code",
   "execution_count": 2,
   "metadata": {},
   "outputs": [
    {
     "data": {
      "text/plain": [
       "120"
      ]
     },
     "execution_count": 2,
     "metadata": {},
     "output_type": "execute_result"
    }
   ],
   "source": [
    "# Factorial Function:\n",
    "def factorial(n):\n",
    "    if n == 1:\n",
    "        return n\n",
    "    else:\n",
    "        return n*factorial(n-1)\n",
    "    \n",
    "test_factor = factorial(5)\n",
    "test_factor"
   ]
  },
  {
   "cell_type": "code",
   "execution_count": 4,
   "metadata": {},
   "outputs": [
    {
     "data": {
      "text/plain": [
       "210.0"
      ]
     },
     "execution_count": 4,
     "metadata": {},
     "output_type": "execute_result"
    }
   ],
   "source": [
    "def combinations(n,k):\n",
    "    oben = factorial(n)\n",
    "    unten = factorial(k)*factorial(n-k)\n",
    "    return oben/unten\n",
    "\n",
    "test_combi = combinations(10,4)\n",
    "test_combi"
   ]
  },
  {
   "cell_type": "markdown",
   "metadata": {},
   "source": [
    "# One Ticket Probability\n",
    "Now we focus on writing a function that calculates the probability of winning the big prize.\n",
    "\n",
    "In the 6/49 lottery, six numbers are drawn from a set of 49 numbers that range from 1 to 49. A player wins the big prize if the six numbers on their tickets match all the six numbers drawn. If a player has a ticket with the numbers {13, 22, 24, 27, 42, 44}, he only wins the big prize if the numbers drawn are {13, 22, 24, 27, 42, 44}. If only one number differs, he doesn't win.\n",
    "\n",
    "For the first version of the app, we want players to be able to calculate the probability of winning the big prize with the various numbers they play on a single ticket (for each ticket a player chooses six numbers out of 49). So, we'll start by building a function that calculates the probability of winning the big prize for any given ticket.\n",
    "\n",
    "We discussed with the engineering team of the medical institute, and they told us we need to be aware of the following details when we write the function:\n",
    "\n",
    "- Inside the app, the user inputs six different numbers from 1 to 49.\n",
    "- Under the hood, the six numbers will come as a Python list, which will serve as the single input to our function.\n",
    "- The engineering team wants the function to print the probability value in a friendly way — in a way that people without any probability training are able to understand."
   ]
  },
  {
   "cell_type": "markdown",
   "metadata": {},
   "source": [
    "## Tasks\n",
    "1. Write a function named `one_ticket_probability()`, which takes in a list of six unique numbers and prints the probability of winning in a way that's easy to understand.\n",
    " - Start by calculating the total number of possible outcomes — this is total number of combinations for a six-number lottery ticket. There are 49 possible numbers, and six numbers are sampled without replacement. Use the `combinations()` function you wrote in the previous screen.\n",
    " - The user inputs just one combination, which means the number of successful outcomes is 1.\n",
    " - Use the number of successful outcomes and the total number of possible outcomes to calculate the probability for one ticket.\n",
    " - The function should print the probability in a way that's easy to understand. It's up to you what you choose, but here are a few suggestions:\n",
    "     - Print the probability as a percentage.\n",
    "     - Use the str.format() method to make the printed message more personalized with respect to what the user inputs.\n",
    "2. Test your function using a few inputs.\n",
    "3. Add some context for your readers to explain what you did in this step and why."
   ]
  },
  {
   "cell_type": "code",
   "execution_count": 16,
   "metadata": {},
   "outputs": [
    {
     "name": "stdout",
     "output_type": "stream",
     "text": [
      "Your chances to win the big prize with the numbers [1, 2, 3, 4, 5, 6] are 0.0000072%.\n",
      "In other words, you have a 1 in 13,983,816 chances to win.\n"
     ]
    }
   ],
   "source": [
    "def one_ticket_probability(lucky_nums):\n",
    "    outcomes = combinations(49,len(lucky_nums))\n",
    "    prob = (1/outcomes)*100\n",
    "    print('''Your chances to win the big prize with the numbers {} are {:.7f}%.\n",
    "In other words, you have a 1 in {:,} chances to win.'''.format(lucky_nums,\n",
    "                    prob, int(outcomes)))\n",
    "        \n",
    "lucky_numbers = [1,2,3,4,5,6]\n",
    "test_one = one_ticket_probability(lucky_numbers)\n",
    "test_one"
   ]
  },
  {
   "cell_type": "markdown",
   "metadata": {},
   "source": [
    "# Historical Data Check for Canada Lottery\n",
    "On the previous screen, we wrote a function that can tell users what is the probability of winning the big prize with a single ticket. For the first version of the app, however, users should also be able to compare their ticket against the historical lottery data in Canada and determine whether they would have ever won by now.\n",
    "\n",
    "On this screen, we'll focus on exploring the historical data coming from the Canada 6/49 lottery. The data set can be downloaded from Kaggle and it has the following structure:\n",
    "\n",
    "|PRODUCT|DRAW NUMBER|SEQUENCE NUMBER|DRAW DATE|NUMBER DRAWN 1|NUMBER DRAWN 2|NUMBER DRAWN 3|NUMBER DRAWN 4|NUMBER DRAWN 5|NUMBER DRAWN 6|BONUS NUMBER|\n",
    "|---|---|---|---|---|---|---|---|---|---|---|\n",
    "|0|\t649|\t1|\t0|\t6/12/1982|\t3|\t11|\t12|\t14|\t41|\t43|\t13|\n",
    "|1|\t649|\t2|\t0|\t6/19/1982|\t8|\t33|\t36|\t37|\t39|\t41|\t9|\n",
    "|2|\t649|\t3|\t0|\t6/26/1982|\t1|\t6\t|23|\t24|\t27|\t39|\t34|\n",
    "|...|\t...|\t...|\t...|\t...|\t...|\t...|\t...|\t...|\t...|\t...|\t...|\n",
    "|3662|\t649|\t3589|\t0|\t6/13/2018|\t6|\t22|\t24|\t31|\t32|\t34|\t16|\n",
    "|3663|\t649|\t3590|\t0|\t6/16/2018|\t2|\t15\t|21|\t31|\t38|\t49|\t8|\n",
    "|3664|\t649|\t3591|\t0|\t6/20/2018|\t14|\t24\t|31\t|35|\t37|\t48|\t17|\n",
    "\n",
    "The data set contains historical data for 3,665 drawings (each row shows data for a single drawing), dating from 1982 to 2018. For each drawing, we can find the six numbers drawn in the following six columns:\n",
    "\n",
    "- `NUMBER DRAWN 1`\n",
    "- `NUMBER DRAWN 2`\n",
    "- `NUMBER DRAWN 3`\n",
    "- `NUMBER DRAWN 4`\n",
    "- `NUMBER DRAWN 5`\n",
    "- `NUMBER DRAWN 6`\n",
    "\n",
    "Let's now write some code to open this data set and get familiar with its structure."
   ]
  },
  {
   "cell_type": "markdown",
   "metadata": {},
   "source": [
    "## Tasks\n",
    "1. Open the `649.csv` file and save it as a pandas DataFrame.\n",
    "2. Print the number of rows and columns of this data set.\n",
    "3. Print the first and the last three rows and try to get familiar with the data set."
   ]
  },
  {
   "cell_type": "code",
   "execution_count": 17,
   "metadata": {},
   "outputs": [],
   "source": [
    "import pandas as pd\n",
    "import numpy as np\n",
    "import matplotlib.pyplot as plt\n",
    "import seaborn as sns\n",
    "%matplotlib inline"
   ]
  },
  {
   "cell_type": "code",
   "execution_count": 23,
   "metadata": {},
   "outputs": [
    {
     "data": {
      "text/plain": [
       "(3665, 11)"
      ]
     },
     "execution_count": 23,
     "metadata": {},
     "output_type": "execute_result"
    }
   ],
   "source": [
    "df = pd.read_csv(\"649.csv\", parse_dates=[\"DRAW DATE\"])\n",
    "df.shape"
   ]
  },
  {
   "cell_type": "code",
   "execution_count": 24,
   "metadata": {},
   "outputs": [
    {
     "data": {
      "text/html": [
       "<div>\n",
       "<style scoped>\n",
       "    .dataframe tbody tr th:only-of-type {\n",
       "        vertical-align: middle;\n",
       "    }\n",
       "\n",
       "    .dataframe tbody tr th {\n",
       "        vertical-align: top;\n",
       "    }\n",
       "\n",
       "    .dataframe thead th {\n",
       "        text-align: right;\n",
       "    }\n",
       "</style>\n",
       "<table border=\"1\" class=\"dataframe\">\n",
       "  <thead>\n",
       "    <tr style=\"text-align: right;\">\n",
       "      <th></th>\n",
       "      <th>PRODUCT</th>\n",
       "      <th>DRAW NUMBER</th>\n",
       "      <th>SEQUENCE NUMBER</th>\n",
       "      <th>DRAW DATE</th>\n",
       "      <th>NUMBER DRAWN 1</th>\n",
       "      <th>NUMBER DRAWN 2</th>\n",
       "      <th>NUMBER DRAWN 3</th>\n",
       "      <th>NUMBER DRAWN 4</th>\n",
       "      <th>NUMBER DRAWN 5</th>\n",
       "      <th>NUMBER DRAWN 6</th>\n",
       "      <th>BONUS NUMBER</th>\n",
       "    </tr>\n",
       "  </thead>\n",
       "  <tbody>\n",
       "    <tr>\n",
       "      <th>0</th>\n",
       "      <td>649</td>\n",
       "      <td>1</td>\n",
       "      <td>0</td>\n",
       "      <td>1982-06-12</td>\n",
       "      <td>3</td>\n",
       "      <td>11</td>\n",
       "      <td>12</td>\n",
       "      <td>14</td>\n",
       "      <td>41</td>\n",
       "      <td>43</td>\n",
       "      <td>13</td>\n",
       "    </tr>\n",
       "    <tr>\n",
       "      <th>1</th>\n",
       "      <td>649</td>\n",
       "      <td>2</td>\n",
       "      <td>0</td>\n",
       "      <td>1982-06-19</td>\n",
       "      <td>8</td>\n",
       "      <td>33</td>\n",
       "      <td>36</td>\n",
       "      <td>37</td>\n",
       "      <td>39</td>\n",
       "      <td>41</td>\n",
       "      <td>9</td>\n",
       "    </tr>\n",
       "    <tr>\n",
       "      <th>2</th>\n",
       "      <td>649</td>\n",
       "      <td>3</td>\n",
       "      <td>0</td>\n",
       "      <td>1982-06-26</td>\n",
       "      <td>1</td>\n",
       "      <td>6</td>\n",
       "      <td>23</td>\n",
       "      <td>24</td>\n",
       "      <td>27</td>\n",
       "      <td>39</td>\n",
       "      <td>34</td>\n",
       "    </tr>\n",
       "  </tbody>\n",
       "</table>\n",
       "</div>"
      ],
      "text/plain": [
       "   PRODUCT  DRAW NUMBER  SEQUENCE NUMBER  DRAW DATE  NUMBER DRAWN 1  \\\n",
       "0      649            1                0 1982-06-12               3   \n",
       "1      649            2                0 1982-06-19               8   \n",
       "2      649            3                0 1982-06-26               1   \n",
       "\n",
       "   NUMBER DRAWN 2  NUMBER DRAWN 3  NUMBER DRAWN 4  NUMBER DRAWN 5  \\\n",
       "0              11              12              14              41   \n",
       "1              33              36              37              39   \n",
       "2               6              23              24              27   \n",
       "\n",
       "   NUMBER DRAWN 6  BONUS NUMBER  \n",
       "0              43            13  \n",
       "1              41             9  \n",
       "2              39            34  "
      ]
     },
     "execution_count": 24,
     "metadata": {},
     "output_type": "execute_result"
    }
   ],
   "source": [
    "df.head(3)"
   ]
  },
  {
   "cell_type": "code",
   "execution_count": 25,
   "metadata": {},
   "outputs": [
    {
     "data": {
      "text/html": [
       "<div>\n",
       "<style scoped>\n",
       "    .dataframe tbody tr th:only-of-type {\n",
       "        vertical-align: middle;\n",
       "    }\n",
       "\n",
       "    .dataframe tbody tr th {\n",
       "        vertical-align: top;\n",
       "    }\n",
       "\n",
       "    .dataframe thead th {\n",
       "        text-align: right;\n",
       "    }\n",
       "</style>\n",
       "<table border=\"1\" class=\"dataframe\">\n",
       "  <thead>\n",
       "    <tr style=\"text-align: right;\">\n",
       "      <th></th>\n",
       "      <th>PRODUCT</th>\n",
       "      <th>DRAW NUMBER</th>\n",
       "      <th>SEQUENCE NUMBER</th>\n",
       "      <th>DRAW DATE</th>\n",
       "      <th>NUMBER DRAWN 1</th>\n",
       "      <th>NUMBER DRAWN 2</th>\n",
       "      <th>NUMBER DRAWN 3</th>\n",
       "      <th>NUMBER DRAWN 4</th>\n",
       "      <th>NUMBER DRAWN 5</th>\n",
       "      <th>NUMBER DRAWN 6</th>\n",
       "      <th>BONUS NUMBER</th>\n",
       "    </tr>\n",
       "  </thead>\n",
       "  <tbody>\n",
       "    <tr>\n",
       "      <th>3662</th>\n",
       "      <td>649</td>\n",
       "      <td>3589</td>\n",
       "      <td>0</td>\n",
       "      <td>2018-06-13</td>\n",
       "      <td>6</td>\n",
       "      <td>22</td>\n",
       "      <td>24</td>\n",
       "      <td>31</td>\n",
       "      <td>32</td>\n",
       "      <td>34</td>\n",
       "      <td>16</td>\n",
       "    </tr>\n",
       "    <tr>\n",
       "      <th>3663</th>\n",
       "      <td>649</td>\n",
       "      <td>3590</td>\n",
       "      <td>0</td>\n",
       "      <td>2018-06-16</td>\n",
       "      <td>2</td>\n",
       "      <td>15</td>\n",
       "      <td>21</td>\n",
       "      <td>31</td>\n",
       "      <td>38</td>\n",
       "      <td>49</td>\n",
       "      <td>8</td>\n",
       "    </tr>\n",
       "    <tr>\n",
       "      <th>3664</th>\n",
       "      <td>649</td>\n",
       "      <td>3591</td>\n",
       "      <td>0</td>\n",
       "      <td>2018-06-20</td>\n",
       "      <td>14</td>\n",
       "      <td>24</td>\n",
       "      <td>31</td>\n",
       "      <td>35</td>\n",
       "      <td>37</td>\n",
       "      <td>48</td>\n",
       "      <td>17</td>\n",
       "    </tr>\n",
       "  </tbody>\n",
       "</table>\n",
       "</div>"
      ],
      "text/plain": [
       "      PRODUCT  DRAW NUMBER  SEQUENCE NUMBER  DRAW DATE  NUMBER DRAWN 1  \\\n",
       "3662      649         3589                0 2018-06-13               6   \n",
       "3663      649         3590                0 2018-06-16               2   \n",
       "3664      649         3591                0 2018-06-20              14   \n",
       "\n",
       "      NUMBER DRAWN 2  NUMBER DRAWN 3  NUMBER DRAWN 4  NUMBER DRAWN 5  \\\n",
       "3662              22              24              31              32   \n",
       "3663              15              21              31              38   \n",
       "3664              24              31              35              37   \n",
       "\n",
       "      NUMBER DRAWN 6  BONUS NUMBER  \n",
       "3662              34            16  \n",
       "3663              49             8  \n",
       "3664              48            17  "
      ]
     },
     "execution_count": 25,
     "metadata": {},
     "output_type": "execute_result"
    }
   ],
   "source": [
    "df.tail(3)"
   ]
  },
  {
   "cell_type": "markdown",
   "metadata": {},
   "source": [
    "# Function for Historical Data Check\n",
    "Now we're going to write a function that will enable users to compare their ticket against the historical lottery data in Canada and determine whether they would have ever won by now.\n",
    "\n",
    "The engineering team told us that we need to be aware of the following details:\n",
    "\n",
    "- Inside the app, the user inputs six different numbers from 1 to 49.\n",
    "- Under the hood, the six numbers will come as a Python list and serve as an input to our function.\n",
    "- The engineering team wants us to write a function that prints:\n",
    "  - the number of times the combination selected occurred in the Canada data set; and\n",
    "  - the probability of winning the big prize in the next drawing with that combination.\n",
    "\n",
    "We'll now start working on writing this function. Note there's more than one way to solve this problem, so take the instructions below as suggestions."
   ]
  },
  {
   "cell_type": "markdown",
   "metadata": {},
   "source": [
    "## Tasks\n",
    "1. Extract all the winning six numbers from the historical data set as Python sets (set is a data type in Python).\n",
    " - Write a function named `extract_numbers()` that takes as input a row of the lottery dataframe and returns a set containing all the six winning numbers. For the first row, for instance, the function should return the set `{3, 41, 11, 12, 43, 14}`.\n",
    " - Use `extract_numbers()` in combination with the `DataFrame.apply()` method to extract all the winning numbers.\n",
    "2. Write a function named `check_historical_occurence()` that takes in two inputs: a Python list containing the user numbers and a pandas Series containing sets with the winning numbers (this is the Series you'll extract using the `extract_numbers()` function).\n",
    " - Convert the user numbers list as a set using the `set()` function.\n",
    " - Compare the set against the pandas Series that contains the sets with the winning numbers to find the number of matches — a Series of Boolean values will be returned as a result of the comparison (the value will be `True` each time there'll be a match).\n",
    " - Print information about the number of times the combination inputted by the user occurred in the past.\n",
    " - Print information (in an easy-to-understand way) about the probability of winning the big prize in the next drawing with that combination.\n",
    "3. Test your function with a few inputs.\n",
    "4. Add some context for your readers to explain what you did in this step and why."
   ]
  },
  {
   "cell_type": "code",
   "execution_count": 52,
   "metadata": {},
   "outputs": [
    {
     "data": {
      "text/plain": [
       "0        {3, 41, 11, 12, 43, 14}\n",
       "1        {33, 36, 37, 39, 8, 41}\n",
       "2         {1, 6, 39, 23, 24, 27}\n",
       "3         {3, 9, 10, 43, 13, 20}\n",
       "4        {34, 5, 14, 47, 21, 31}\n",
       "                  ...           \n",
       "3660    {38, 40, 41, 10, 15, 23}\n",
       "3661    {36, 46, 47, 19, 25, 31}\n",
       "3662     {32, 34, 6, 22, 24, 31}\n",
       "3663     {2, 38, 15, 49, 21, 31}\n",
       "3664    {35, 37, 14, 48, 24, 31}\n",
       "Length: 3665, dtype: object"
      ]
     },
     "execution_count": 52,
     "metadata": {},
     "output_type": "execute_result"
    }
   ],
   "source": [
    "def extract_numbers(row):\n",
    "    numbers = [\"NUMBER DRAWN 1\",\"NUMBER DRAWN 2\", \"NUMBER DRAWN 3\",\"NUMBER DRAWN 4\", \"NUMBER DRAWN 5\",\"NUMBER DRAWN 6\"]\n",
    "    return set(row[numbers])\n",
    "    \n",
    "    \n",
    "\n",
    "numbers = df.apply(extract_numbers, axis = 1)\n",
    "numbers"
   ]
  },
  {
   "cell_type": "code",
   "execution_count": 112,
   "metadata": {},
   "outputs": [
    {
     "name": "stdout",
     "output_type": "stream",
     "text": [
      "You would have won the lottery 1 time(s) with this combination!\n"
     ]
    }
   ],
   "source": [
    "def check_historical_occurence(user_num, winning_num):\n",
    "    users = set(user_num)\n",
    "    hits = []\n",
    "    \n",
    "    for row in winning_num:\n",
    "        if users == row:\n",
    "            hits.append(True)\n",
    "        \n",
    "    if len(hits)>=1:\n",
    "        print(\"You would have won the lottery \"+str(sum(hits))+\" time(s) with this combination!\")\n",
    "    else:\n",
    "        print(\"Sorry\")\n",
    "    \n",
    "test = check_historical_occurence([38, 40, 41, 10, 15, 23],numbers)\n",
    "test"
   ]
  },
  {
   "cell_type": "code",
   "execution_count": 82,
   "metadata": {},
   "outputs": [
    {
     "data": {
      "text/plain": [
       "{6, 8, 11, 45, 25, 28}      1\n",
       "{6, 9, 41, 13, 23, 26}      1\n",
       "{39, 45, 15, 48, 23, 28}    1\n",
       "{33, 36, 6, 23, 24, 26}     1\n",
       "{1, 34, 33, 8, 42, 27}      1\n",
       "                           ..\n",
       "{1, 33, 35, 47, 27, 31}     1\n",
       "{4, 39, 42, 46, 14, 48}     1\n",
       "{11, 44, 14, 46, 16, 19}    1\n",
       "{2, 40, 18, 24, 25, 30}     1\n",
       "{3, 5, 14, 18, 26, 28}      1\n",
       "Length: 3665, dtype: int64"
      ]
     },
     "execution_count": 82,
     "metadata": {},
     "output_type": "execute_result"
    }
   ],
   "source": [
    "# check if any number appeared more than once:\n",
    "numbers.value_counts(ascending=False)\n",
    "# no! it seems there are no duplicates in the numbers drawn"
   ]
  },
  {
   "cell_type": "code",
   "execution_count": 114,
   "metadata": {},
   "outputs": [
    {
     "name": "stdout",
     "output_type": "stream",
     "text": [
      "Your chances to win the big prize with the numbers [38, 40, 41, 10, 15, 23] are 0.0000072%.\n",
      "In other words, you have a 1 in 13,983,816 chances to win.\n"
     ]
    }
   ],
   "source": [
    "# Your chances to win the next big price with this combination is:\n",
    "one_ticket_probability([38, 40, 41, 10, 15, 23])"
   ]
  },
  {
   "cell_type": "markdown",
   "metadata": {},
   "source": [
    "# Multi Ticket Probability\n",
    "Lottery addicts usually play more than one ticket on a single drawing, thinking that this might increase their chances of winning significantly. Our purpose is to help them better estimate their chances of winning — on this screen, we're going to write a function that will allow the users to calculate the chances of winning for any number of different tickets.\n",
    "\n",
    "We've talked with the engineering team and they gave us the following information:\n",
    "\n",
    "- The user will input the number of different tickets they want to play (without inputting the specific combinations they intend to play).\n",
    "- Our function will see an integer between 1 and 13,983,816 (the maximum number of different tickets).\n",
    "- The function should print information about the probability of winning the big prize depending on the number of different tickets played."
   ]
  },
  {
   "cell_type": "markdown",
   "metadata": {},
   "source": [
    "## Tasks\n",
    "1. Write a function named `multi_ticket_probability()` that prints the probability of winning the big prize depending on the number of different tickets played.\n",
    " - Start by calculating the total number of possible outcomes — this is total number of combinations for a six-number lottery ticket. There are 49 total numbers, and six numbers are sampled without replacement. Use the `combinations()` function you wrote in a previous screen.\n",
    " - The number of successful outcomes is given by the number of tickets the user intends to play.\n",
    " - Use the number of successful outcomes and the total number of possible outcomes to calculate the probability for the number of tickets inputted.\n",
    " - The function should print the probability in a way that's easy to understand. It's up to you what you choose, but here are a few suggestions:\n",
    "     - Print the probability as a percentage.\n",
    "     - Use the `str.format()` method to make the printed message more personalized with respect to what the user inputs.\n",
    "3. Test your function using the following inputs: `[1, 10, 100, 10000, 1000000, 6991908, 13983816]`.\n",
    "4. Add some context for your readers to explain what you did in this step and why."
   ]
  },
  {
   "cell_type": "code",
   "execution_count": 123,
   "metadata": {},
   "outputs": [
    {
     "name": "stdout",
     "output_type": "stream",
     "text": [
      "Your chance of winning with 100000 tickets is: 0.7151123842018516 %\n"
     ]
    }
   ],
   "source": [
    "def multi_ticket_probability(no_ticks):\n",
    "    outcomes = combinations(49,6)\n",
    "    prob = (no_ticks/outcomes)*100\n",
    "    print(\"Your chance of winning with \"+str(no_ticks)+\" tickets is: \"+str(prob)+\" %\")\n",
    "    \n",
    "guess = multi_ticket_probability(100000)    "
   ]
  },
  {
   "cell_type": "code",
   "execution_count": 124,
   "metadata": {},
   "outputs": [
    {
     "name": "stdout",
     "output_type": "stream",
     "text": [
      "Your chance of winning with 1 tickets is: 7.151123842018516e-06 %\n",
      "------------------------------------------\n",
      "Your chance of winning with 10 tickets is: 7.151123842018517e-05 %\n",
      "------------------------------------------\n",
      "Your chance of winning with 100 tickets is: 0.0007151123842018516 %\n",
      "------------------------------------------\n",
      "Your chance of winning with 10000 tickets is: 0.07151123842018516 %\n",
      "------------------------------------------\n",
      "Your chance of winning with 1000000 tickets is: 7.151123842018517 %\n",
      "------------------------------------------\n",
      "Your chance of winning with 6991908 tickets is: 50.0 %\n",
      "------------------------------------------\n",
      "Your chance of winning with 13983816 tickets is: 100.0 %\n",
      "------------------------------------------\n"
     ]
    }
   ],
   "source": [
    "tickets = [1, 10, 100, 10000, 1000000, 6991908, 13983816]\n",
    "for t in tickets:\n",
    "    multi_ticket_probability(t)\n",
    "    print(\"------------------------------------------\")"
   ]
  },
  {
   "cell_type": "markdown",
   "metadata": {},
   "source": [
    "# Less Winning Number - Function\n",
    "Now we're going to write one more function to allow the users to calculate probabilities for two, three, four, or five winning numbers.\n",
    "\n",
    "For extra context, in most 6/49 lotteries there are smaller prizes if a player's ticket match two, three, four, or five of the six numbers drawn. As a consequence, the users might be interested in knowing the probability of having two, three, four, or five winning numbers.\n",
    "\n",
    "These are the engineering details we'll need to be aware of:\n",
    "\n",
    "- Inside the app, the user inputs:\n",
    " - six different numbers from 1 to 49; and\n",
    " - an integer between 2 and 5 that represents the number of winning numbers expected\n",
    "- Our function prints information about the probability of having the inputted number of winning numbers.\n",
    "\n",
    "To help you code this function, we'll guide you through calculating the probability for having exactly five winning numbers. First, we need to differentiate between these two probability questions:\n",
    "\n",
    "1. What is the probability of having exactly five winning numbers?\n",
    "2. What is the probability of having at least five winning numbers?\n",
    "\n",
    "For our purposes here, we want to answer the first question.\n",
    "\n",
    "For the sake of example, let's say a player chose these six numbers on a ticket: (1, 2, 3, 4 ,5 ,6). Out of these six numbers, we can form six five-number combinations:\n",
    "\n",
    "- (1, 2, 3, 4, 5)\n",
    "- (1, 2, 3, 4, 6)\n",
    "- (1, 2, 3, 5, 6)\n",
    "- (1, 2, 4, 5, 6)\n",
    "- (1, 3, 4, 5, 6)\n",
    "- (2, 3, 4, 5, 6)\n",
    "\n",
    "We can also find the total number of five-number combinations by calculating (\"6 choose 5\"):\n",
    "\n",
    "\\begin{equation}\n",
    "_6C_5 = {6 \\choose 5} =  \\frac{6!}{5!(6-5)!} =  6\n",
    "\\end{equation}\n",
    "\n",
    "For each one of the six five-number combinations above, there are 44 possible successful outcomes in a lottery drawing. For the combination (1, 2, 3, 4, 5), for instance, there are 44 lottery outcomes that would return a prize:\n",
    "\n",
    "- (1, 2, 3, 4, 5, 6)\n",
    "- (1, 2, 3, 4, 5, 7)\n",
    "- ...\n",
    "- (1, 2, 3, 4, 5, 30)\n",
    "- (1, 2, 3, 4, 5, 31)\n",
    "- ...\n",
    "- (1, 2, 3, 4, 5, 49)\n",
    "\n",
    "However, we need to leave out the outcome (1, 2, 3, 4, 5, 6) because we're only interested in outcomes that match exactly five numbers, not at least five numbers. This means that for each of our six five-number combinations we have 43 possible successful outcomes, not 44.\n",
    "\n",
    "Since there are six five-number combinations and each combination corresponds to 43 successful outcomes, we need to multiply 6 by 43 to find the total number of successful outcomes:\n",
    "\n",
    "\\begin{equation}\n",
    "6 \\times 43 = 258\n",
    "\\end{equation}\n",
    "\n",
    "Since there are 258 successful outcomes and there are 13,983,816 total possible outcomes (the result of \n",
    "), the probability of having exactly five winning numbers for a single lottery ticket is:\n",
    "\n",
    "\\begin{equation}\n",
    "P(\\text{5-winning numbers}) = \\frac{258}{{49 \\choose 6}} = 0.00001845\n",
    "\\end{equation}\n",
    "\n",
    "Now let's try to code the function. To calculate the probabilities, we tell the engineering team that the specific combination on the ticket is irrelevant behind the scenes, and we only need the integer between 2 and 5 representing the number of winning numbers expected."
   ]
  },
  {
   "cell_type": "markdown",
   "metadata": {},
   "source": [
    "## Tasks\n",
    "1. Write a function named `probability_less_6()` which takes in an integer between `2` and `5` and prints information about the chances of winning depending on the value of that integer.\n",
    " - First, calculate the number of successful outcomes given the value of the input. We already covered how to calculate this when the input is `5` — when the input is lower, we need to take the same approach (but be careful, the number of combinations will vary). If you get stuck, try to sneak a look at the solution notebook.\n",
    " - Second, calculate the number of total possible outcomes.\n",
    " - Calculate the probability using the number of successful outcomes and the number of total possible outcomes.\n",
    " - Display the probability value in a way that will be easy to understand for the user.\n",
    "2. Test your function on all possible inputs: `2, 3, 4`, and `5`.\n",
    "3. Add some context for your readers to explain what you did in this step and why."
   ]
  },
  {
   "cell_type": "code",
   "execution_count": 141,
   "metadata": {},
   "outputs": [
    {
     "name": "stdout",
     "output_type": "stream",
     "text": [
      "The probability of hitting exactly 2 correct number(s) is: 13.237802900152577 %\n"
     ]
    }
   ],
   "source": [
    "def probability_less_6(n):\n",
    "    combs = combinations(6,n)\n",
    "    rest_outcomes = combinations(43, 6-n)\n",
    "    sux_outcomes = combs*rest_outcomes\n",
    "    outcomes = combinations(49,6)\n",
    "    result = (sux_outcomes/outcomes)*100\n",
    "    print(\"The probability of hitting exactly \"+str(n)+\" correct number(s) is: \"+str(result)+\" %\")\n",
    "    \n",
    "test1 = probability_less_6(2)"
   ]
  },
  {
   "cell_type": "code",
   "execution_count": 142,
   "metadata": {},
   "outputs": [
    {
     "name": "stdout",
     "output_type": "stream",
     "text": [
      "The probability of hitting exactly 2 correct number(s) is: 13.237802900152577 %\n",
      "------------------------------\n",
      "The probability of hitting exactly 3 correct number(s) is: 1.7650403866870101 %\n",
      "------------------------------\n",
      "The probability of hitting exactly 4 correct number(s) is: 0.0968619724401408 %\n",
      "------------------------------\n",
      "The probability of hitting exactly 5 correct number(s) is: 0.0018449899512407771 %\n",
      "------------------------------\n"
     ]
    }
   ],
   "source": [
    "inputs = [2,3,4,5]\n",
    "for i in inputs:\n",
    "    probability_less_6(i)\n",
    "    print(\"------------------------------\")"
   ]
  },
  {
   "cell_type": "markdown",
   "metadata": {},
   "source": [
    "# Next Steps\n",
    "Possible features for a second version of the app include:\n",
    "\n",
    "- Making the outputs even easier to understand by adding fun analogies (for example, we can find probabilities for strange events and compare with the chances of winning in lottery; for instance, we can output something along the lines \"You are 100 times more likely to be the victim of a shark attack than winning the lottery\").\n",
    "- Combining the `one_ticket_probability()` and `check_historical_occurrence()` to output information on probability and historical occurrence at the same time.\n",
    "- Creating a function similar to `probability_less_6()` which calculates the probability of having at least two, three, four or five winning numbers. Hint: the number of successful outcomes for having at least four winning numbers is the sum of these three numbers:\n",
    "  - The number of successful outcomes for having four winning numbers exactly\n",
    "  - The number of successful outcomes for having five winning numbers exactly\n",
    "  - The number of successful outcomes for having six winning numbers exactly\n"
   ]
  },
  {
   "cell_type": "code",
   "execution_count": null,
   "metadata": {},
   "outputs": [],
   "source": []
  }
 ],
 "metadata": {
  "kernelspec": {
   "display_name": "Python 3",
   "language": "python",
   "name": "python3"
  },
  "language_info": {
   "codemirror_mode": {
    "name": "ipython",
    "version": 3
   },
   "file_extension": ".py",
   "mimetype": "text/x-python",
   "name": "python",
   "nbconvert_exporter": "python",
   "pygments_lexer": "ipython3",
   "version": "3.7.3"
  }
 },
 "nbformat": 4,
 "nbformat_minor": 2
}
